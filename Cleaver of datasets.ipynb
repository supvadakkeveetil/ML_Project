{
 "cells": [
  {
   "cell_type": "code",
   "execution_count": 1,
   "metadata": {},
   "outputs": [],
   "source": [
    "import pandas as pd\n",
    "\n",
    "# Replace 'your_file.csv' with the actual path to your CSV file\n",
    "df = pd.read_csv('spotify_songs.csv')"
   ]
  },
  {
   "cell_type": "code",
   "execution_count": 2,
   "metadata": {},
   "outputs": [],
   "source": [
    "# Calculate the number of rows per quarter\n",
    "num_rows_per_quarter = int(len(df) / 4)\n",
    "\n",
    "# Create an empty list to store the DataFrames\n",
    "quarter_dfs = []\n"
   ]
  },
  {
   "cell_type": "code",
   "execution_count": 3,
   "metadata": {},
   "outputs": [],
   "source": [
    "# Loop through the data in quarters\n",
    "for i in range(4):\n",
    "  # Calculate starting and ending indices for each quarter\n",
    "  start_index = i * num_rows_per_quarter\n",
    "  end_index = (i + 1) * num_rows_per_quarter\n",
    "\n",
    "  # Create a DataFrame for the current quarter\n",
    "  quarter_df = df.iloc[start_index:end_index]\n",
    "\n",
    "  # Append the DataFrame to the list\n",
    "  quarter_dfs.append(quarter_df)"
   ]
  },
  {
   "cell_type": "code",
   "execution_count": 4,
   "metadata": {},
   "outputs": [],
   "source": [
    "# Save each DataFrame to a separate CSV file\n",
    "for i, quarter_df in enumerate(quarter_dfs):\n",
    "  filename = f\"quarter_{i+1}.csv\"\n",
    "  quarter_df.to_csv(filename, index=False)"
   ]
  }
 ],
 "metadata": {
  "kernelspec": {
   "display_name": "PythonData",
   "language": "python",
   "name": "python3"
  },
  "language_info": {
   "codemirror_mode": {
    "name": "ipython",
    "version": 3
   },
   "file_extension": ".py",
   "mimetype": "text/x-python",
   "name": "python",
   "nbconvert_exporter": "python",
   "pygments_lexer": "ipython3",
   "version": "3.7.7"
  }
 },
 "nbformat": 4,
 "nbformat_minor": 2
}
