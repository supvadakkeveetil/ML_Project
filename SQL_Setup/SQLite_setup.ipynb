{
 "cells": [
  {
   "cell_type": "code",
   "execution_count": 38,
   "id": "91cbf689",
   "metadata": {},
   "outputs": [],
   "source": [
    "# Import the dependencies.\n",
    "from pathlib import Path\n",
    "from sqlalchemy import create_engine\n",
    "import pandas as pd\n",
    "import csv\n",
    "import sqlite3"
   ]
  },
  {
   "cell_type": "code",
   "execution_count": 39,
   "id": "afabce83",
   "metadata": {},
   "outputs": [],
   "source": [
    "# Define path to CSV and table name\n",
    "csv_file_path = \"processed_data_cleaned.csv\"\n",
    "sqlite_db_name = \"spotify_db.sqlite\"\n",
    "table_name = \"spotify_song\""
   ]
  },
  {
   "cell_type": "code",
   "execution_count": 40,
   "id": "ca5b1fcf",
   "metadata": {},
   "outputs": [],
   "source": [
    "# Create a new SQLite database\n",
    "conn = sqlite3.connect(sqlite_db_name)"
   ]
  },
  {
   "cell_type": "code",
   "execution_count": 41,
   "id": "6b901c72",
   "metadata": {},
   "outputs": [],
   "source": [
    "# Create the table \n",
    "with open(csv_file_path, \"r\") as csvfile:\n",
    "    reader = csv.reader(csvfile)\n",
    "    # Get field names from the first row of CSV (with headers)\n",
    "    field_names = next(reader)\n",
    "    field_definitions = \", \".join([f\"{field} TEXT\" for field in field_names])\n",
    "    create_table_query = f\"\"\"CREATE TABLE {table_name} ({field_definitions})\"\"\"\n",
    "    conn.execute(create_table_query)"
   ]
  },
  {
   "cell_type": "code",
   "execution_count": 42,
   "id": "b49b547f",
   "metadata": {},
   "outputs": [],
   "source": [
    "# Import data from CSV file (with headers)\n",
    "with open(csv_file_path, \"r\") as csvfile:\n",
    "    reader = csv.reader(csvfile)\n",
    "    next(reader)  # Skip the header row (assuming headers are present)\n",
    "    insert_query = f\"\"\"INSERT INTO {table_name} ({\", \".join(field_names)}) VALUES (?, ?,?,?,?,?,?,?,?,?,?,?,?,?,?,?,?,?,?,?)\"\"\"\n",
    "    conn.executemany(insert_query, reader)"
   ]
  },
  {
   "cell_type": "code",
   "execution_count": 43,
   "id": "5d5dabc2",
   "metadata": {},
   "outputs": [
    {
     "name": "stdout",
     "output_type": "stream",
     "text": [
      "SQLite database 'spotify_db.sqlite' created successfully!\n"
     ]
    }
   ],
   "source": [
    "# Commit changes and close connection\n",
    "conn.commit()\n",
    "conn.close()\n",
    "print(f\"SQLite database '{sqlite_db_name}' created successfully!\")"
   ]
  },
  {
   "cell_type": "code",
   "execution_count": 44,
   "id": "be586c73",
   "metadata": {},
   "outputs": [],
   "source": [
    "# Create a reference to the file. \n",
    "database_path = Path(\"spotify_db.sqlite\")"
   ]
  },
  {
   "cell_type": "code",
   "execution_count": 45,
   "id": "cd957854",
   "metadata": {},
   "outputs": [],
   "source": [
    "# Create Engine\n",
    "engine = create_engine(f\"sqlite:///{database_path}\")\n",
    "conn = engine.connect()"
   ]
  },
  {
   "cell_type": "code",
   "execution_count": 46,
   "id": "e7aeb8be",
   "metadata": {},
   "outputs": [],
   "source": [
    "# Query All Records in the the Database\n",
    "spotify_data = pd.read_sql(\"SELECT * FROM spotify_song\", conn)"
   ]
  },
  {
   "cell_type": "code",
   "execution_count": 47,
   "id": "959c7aff",
   "metadata": {},
   "outputs": [],
   "source": [
    "spotify_data['stream_count']=spotify_data['stream_count'].astype(float)"
   ]
  },
  {
   "cell_type": "code",
   "execution_count": 48,
   "id": "37babc18",
   "metadata": {},
   "outputs": [
    {
     "data": {
      "text/plain": [
       "track_id              object\n",
       "track_name            object\n",
       "track_artist          object\n",
       "track_popularity      object\n",
       "playlist_genre        object\n",
       "playlist_subgenre     object\n",
       "danceability          object\n",
       "energy                object\n",
       "key                   object\n",
       "loudness              object\n",
       "mode                  object\n",
       "speechiness           object\n",
       "acousticness          object\n",
       "instrumentalness      object\n",
       "liveness              object\n",
       "valence               object\n",
       "tempo                 object\n",
       "stream_count         float64\n",
       "duration_sec          object\n",
       "months                object\n",
       "dtype: object"
      ]
     },
     "execution_count": 48,
     "metadata": {},
     "output_type": "execute_result"
    }
   ],
   "source": [
    "spotify_data.dtypes"
   ]
  },
  {
   "cell_type": "code",
   "execution_count": 49,
   "id": "55efe384",
   "metadata": {},
   "outputs": [],
   "source": [
    "cols_to_convert = ['tempo', 'valence','liveness','instrumentalness','acousticness','speechiness','loudness','energy','danceability','duration_sec']"
   ]
  },
  {
   "cell_type": "code",
   "execution_count": 50,
   "id": "ae618f7c",
   "metadata": {},
   "outputs": [
    {
     "name": "stdout",
     "output_type": "stream",
     "text": [
      "Columns converted successfully!\n"
     ]
    }
   ],
   "source": [
    "spotify_data[cols_to_convert] = spotify_data[cols_to_convert].astype(float)\n",
    "print(\"Columns converted successfully!\")"
   ]
  },
  {
   "cell_type": "code",
   "execution_count": 51,
   "id": "16336492",
   "metadata": {},
   "outputs": [
    {
     "name": "stdout",
     "output_type": "stream",
     "text": [
      "Columns converted successfully!\n"
     ]
    }
   ],
   "source": [
    "cols_to_int = ['track_popularity','key','mode','months']\n",
    "spotify_data[cols_to_int] = spotify_data[cols_to_int].astype(int)\n",
    "print(\"Columns converted successfully!\")"
   ]
  },
  {
   "cell_type": "code",
   "execution_count": 52,
   "id": "d6179df7",
   "metadata": {},
   "outputs": [
    {
     "data": {
      "text/plain": [
       "track_id              object\n",
       "track_name            object\n",
       "track_artist          object\n",
       "track_popularity       int64\n",
       "playlist_genre        object\n",
       "playlist_subgenre     object\n",
       "danceability         float64\n",
       "energy               float64\n",
       "key                    int64\n",
       "loudness             float64\n",
       "mode                   int64\n",
       "speechiness          float64\n",
       "acousticness         float64\n",
       "instrumentalness     float64\n",
       "liveness             float64\n",
       "valence              float64\n",
       "tempo                float64\n",
       "stream_count         float64\n",
       "duration_sec         float64\n",
       "months                 int64\n",
       "dtype: object"
      ]
     },
     "execution_count": 52,
     "metadata": {},
     "output_type": "execute_result"
    }
   ],
   "source": [
    "spotify_data.dtypes"
   ]
  },
  {
   "cell_type": "code",
   "execution_count": 53,
   "id": "0d9451dc",
   "metadata": {},
   "outputs": [
    {
     "data": {
      "text/html": [
       "<div>\n",
       "<style scoped>\n",
       "    .dataframe tbody tr th:only-of-type {\n",
       "        vertical-align: middle;\n",
       "    }\n",
       "\n",
       "    .dataframe tbody tr th {\n",
       "        vertical-align: top;\n",
       "    }\n",
       "\n",
       "    .dataframe thead th {\n",
       "        text-align: right;\n",
       "    }\n",
       "</style>\n",
       "<table border=\"1\" class=\"dataframe\">\n",
       "  <thead>\n",
       "    <tr style=\"text-align: right;\">\n",
       "      <th></th>\n",
       "      <th>track_id</th>\n",
       "      <th>track_name</th>\n",
       "      <th>track_artist</th>\n",
       "      <th>track_popularity</th>\n",
       "      <th>playlist_genre</th>\n",
       "      <th>playlist_subgenre</th>\n",
       "      <th>danceability</th>\n",
       "      <th>energy</th>\n",
       "      <th>key</th>\n",
       "      <th>loudness</th>\n",
       "      <th>mode</th>\n",
       "      <th>speechiness</th>\n",
       "      <th>acousticness</th>\n",
       "      <th>instrumentalness</th>\n",
       "      <th>liveness</th>\n",
       "      <th>valence</th>\n",
       "      <th>tempo</th>\n",
       "      <th>stream_count</th>\n",
       "      <th>duration_sec</th>\n",
       "      <th>months</th>\n",
       "    </tr>\n",
       "  </thead>\n",
       "  <tbody>\n",
       "    <tr>\n",
       "      <th>0</th>\n",
       "      <td>6f807x0ima9a1j3VPbc7VN</td>\n",
       "      <td>I Don't Care (with Justin Bieber) - Loud Luxur...</td>\n",
       "      <td>Ed Sheeran</td>\n",
       "      <td>66</td>\n",
       "      <td>pop</td>\n",
       "      <td>dance pop</td>\n",
       "      <td>0.748</td>\n",
       "      <td>0.916</td>\n",
       "      <td>6</td>\n",
       "      <td>-2.634</td>\n",
       "      <td>1</td>\n",
       "      <td>0.0583</td>\n",
       "      <td>0.1020</td>\n",
       "      <td>0.000000</td>\n",
       "      <td>0.0653</td>\n",
       "      <td>0.518</td>\n",
       "      <td>122.036</td>\n",
       "      <td>36892097.0</td>\n",
       "      <td>194.754</td>\n",
       "      <td>57</td>\n",
       "    </tr>\n",
       "    <tr>\n",
       "      <th>1</th>\n",
       "      <td>0r7CVbZTWZgbTCYdfa2P31</td>\n",
       "      <td>Memories - Dillon Francis Remix</td>\n",
       "      <td>Maroon 5</td>\n",
       "      <td>67</td>\n",
       "      <td>pop</td>\n",
       "      <td>dance pop</td>\n",
       "      <td>0.726</td>\n",
       "      <td>0.815</td>\n",
       "      <td>11</td>\n",
       "      <td>-4.969</td>\n",
       "      <td>1</td>\n",
       "      <td>0.0373</td>\n",
       "      <td>0.0724</td>\n",
       "      <td>0.004210</td>\n",
       "      <td>0.3570</td>\n",
       "      <td>0.693</td>\n",
       "      <td>99.972</td>\n",
       "      <td>26063851.0</td>\n",
       "      <td>162.600</td>\n",
       "      <td>51</td>\n",
       "    </tr>\n",
       "    <tr>\n",
       "      <th>2</th>\n",
       "      <td>1z1Hg7Vb0AhHDiEmnDE79l</td>\n",
       "      <td>All the Time - Don Diablo Remix</td>\n",
       "      <td>Zara Larsson</td>\n",
       "      <td>70</td>\n",
       "      <td>pop</td>\n",
       "      <td>dance pop</td>\n",
       "      <td>0.675</td>\n",
       "      <td>0.931</td>\n",
       "      <td>1</td>\n",
       "      <td>-3.432</td>\n",
       "      <td>0</td>\n",
       "      <td>0.0742</td>\n",
       "      <td>0.0794</td>\n",
       "      <td>0.000023</td>\n",
       "      <td>0.1100</td>\n",
       "      <td>0.613</td>\n",
       "      <td>124.008</td>\n",
       "      <td>70546338.0</td>\n",
       "      <td>176.616</td>\n",
       "      <td>56</td>\n",
       "    </tr>\n",
       "    <tr>\n",
       "      <th>3</th>\n",
       "      <td>75FpbthrwQmzHlBJLuGdC7</td>\n",
       "      <td>Call You Mine - Keanu Silva Remix</td>\n",
       "      <td>The Chainsmokers</td>\n",
       "      <td>60</td>\n",
       "      <td>pop</td>\n",
       "      <td>dance pop</td>\n",
       "      <td>0.718</td>\n",
       "      <td>0.930</td>\n",
       "      <td>7</td>\n",
       "      <td>-3.778</td>\n",
       "      <td>1</td>\n",
       "      <td>0.1020</td>\n",
       "      <td>0.0287</td>\n",
       "      <td>0.000009</td>\n",
       "      <td>0.2040</td>\n",
       "      <td>0.277</td>\n",
       "      <td>121.956</td>\n",
       "      <td>11862340.0</td>\n",
       "      <td>169.093</td>\n",
       "      <td>56</td>\n",
       "    </tr>\n",
       "    <tr>\n",
       "      <th>4</th>\n",
       "      <td>1e8PAfcKUYoKkxPhrHqw4x</td>\n",
       "      <td>Someone You Loved - Future Humans Remix</td>\n",
       "      <td>Lewis Capaldi</td>\n",
       "      <td>69</td>\n",
       "      <td>pop</td>\n",
       "      <td>dance pop</td>\n",
       "      <td>0.650</td>\n",
       "      <td>0.833</td>\n",
       "      <td>1</td>\n",
       "      <td>-4.672</td>\n",
       "      <td>1</td>\n",
       "      <td>0.0359</td>\n",
       "      <td>0.0803</td>\n",
       "      <td>0.000000</td>\n",
       "      <td>0.0833</td>\n",
       "      <td>0.725</td>\n",
       "      <td>123.976</td>\n",
       "      <td>63578139.0</td>\n",
       "      <td>189.052</td>\n",
       "      <td>60</td>\n",
       "    </tr>\n",
       "  </tbody>\n",
       "</table>\n",
       "</div>"
      ],
      "text/plain": [
       "                 track_id                                         track_name  \\\n",
       "0  6f807x0ima9a1j3VPbc7VN  I Don't Care (with Justin Bieber) - Loud Luxur...   \n",
       "1  0r7CVbZTWZgbTCYdfa2P31                    Memories - Dillon Francis Remix   \n",
       "2  1z1Hg7Vb0AhHDiEmnDE79l                    All the Time - Don Diablo Remix   \n",
       "3  75FpbthrwQmzHlBJLuGdC7                  Call You Mine - Keanu Silva Remix   \n",
       "4  1e8PAfcKUYoKkxPhrHqw4x            Someone You Loved - Future Humans Remix   \n",
       "\n",
       "       track_artist  track_popularity playlist_genre playlist_subgenre  \\\n",
       "0        Ed Sheeran                66            pop         dance pop   \n",
       "1          Maroon 5                67            pop         dance pop   \n",
       "2      Zara Larsson                70            pop         dance pop   \n",
       "3  The Chainsmokers                60            pop         dance pop   \n",
       "4     Lewis Capaldi                69            pop         dance pop   \n",
       "\n",
       "   danceability  energy  key  loudness  mode  speechiness  acousticness  \\\n",
       "0         0.748   0.916    6    -2.634     1       0.0583        0.1020   \n",
       "1         0.726   0.815   11    -4.969     1       0.0373        0.0724   \n",
       "2         0.675   0.931    1    -3.432     0       0.0742        0.0794   \n",
       "3         0.718   0.930    7    -3.778     1       0.1020        0.0287   \n",
       "4         0.650   0.833    1    -4.672     1       0.0359        0.0803   \n",
       "\n",
       "   instrumentalness  liveness  valence    tempo  stream_count  duration_sec  \\\n",
       "0          0.000000    0.0653    0.518  122.036    36892097.0       194.754   \n",
       "1          0.004210    0.3570    0.693   99.972    26063851.0       162.600   \n",
       "2          0.000023    0.1100    0.613  124.008    70546338.0       176.616   \n",
       "3          0.000009    0.2040    0.277  121.956    11862340.0       169.093   \n",
       "4          0.000000    0.0833    0.725  123.976    63578139.0       189.052   \n",
       "\n",
       "   months  \n",
       "0      57  \n",
       "1      51  \n",
       "2      56  \n",
       "3      56  \n",
       "4      60  "
      ]
     },
     "execution_count": 53,
     "metadata": {},
     "output_type": "execute_result"
    }
   ],
   "source": [
    "spotify_data.head()"
   ]
  },
  {
   "cell_type": "code",
   "execution_count": 54,
   "id": "33640f57",
   "metadata": {},
   "outputs": [
    {
     "data": {
      "text/plain": [
       "(32824, 20)"
      ]
     },
     "execution_count": 54,
     "metadata": {},
     "output_type": "execute_result"
    }
   ],
   "source": [
    "spotify_data.shape"
   ]
  },
  {
   "cell_type": "code",
   "execution_count": null,
   "id": "05ba3462",
   "metadata": {},
   "outputs": [],
   "source": []
  }
 ],
 "metadata": {
  "kernelspec": {
   "display_name": "Python 3 (ipykernel)",
   "language": "python",
   "name": "python3"
  },
  "language_info": {
   "codemirror_mode": {
    "name": "ipython",
    "version": 3
   },
   "file_extension": ".py",
   "mimetype": "text/x-python",
   "name": "python",
   "nbconvert_exporter": "python",
   "pygments_lexer": "ipython3",
   "version": "3.7.7"
  }
 },
 "nbformat": 4,
 "nbformat_minor": 5
}
